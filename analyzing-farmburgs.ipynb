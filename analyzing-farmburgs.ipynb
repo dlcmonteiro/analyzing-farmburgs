{
 "cells": [
  {
   "cell_type": "markdown",
   "id": "a0ebaccb",
   "metadata": {},
   "source": [
    "# Analisando um teste A/B para Farmburg\n",
    "\n",
    "### Neste projeto analisaremos um teste A/B, com três variantes diferentes (de preços para um pacote de upgrade), para uma empresa que faz um jogo de rede social de simulação agrícola. Usando os módulos do Python, pandas e SciPy, tentaremos chegar a importantes decisões de negócio."
   ]
  },
  {
   "cell_type": "code",
   "execution_count": 1,
   "id": "6dbaaeb2",
   "metadata": {},
   "outputs": [],
   "source": [
    "# Importa as bibliotecas\n",
    "\n",
    "import pandas as pd\n",
    "import numpy as np\n",
    "from scipy.stats import chi2_contingency\n",
    "from scipy.stats import binom_test"
   ]
  },
  {
   "cell_type": "code",
   "execution_count": 2,
   "id": "042bedc8",
   "metadata": {},
   "outputs": [
    {
     "data": {
      "text/html": [
       "<div>\n",
       "<style scoped>\n",
       "    .dataframe tbody tr th:only-of-type {\n",
       "        vertical-align: middle;\n",
       "    }\n",
       "\n",
       "    .dataframe tbody tr th {\n",
       "        vertical-align: top;\n",
       "    }\n",
       "\n",
       "    .dataframe thead th {\n",
       "        text-align: right;\n",
       "    }\n",
       "</style>\n",
       "<table border=\"1\" class=\"dataframe\">\n",
       "  <thead>\n",
       "    <tr style=\"text-align: right;\">\n",
       "      <th></th>\n",
       "      <th>user_id</th>\n",
       "      <th>group</th>\n",
       "      <th>is_purchase</th>\n",
       "    </tr>\n",
       "  </thead>\n",
       "  <tbody>\n",
       "    <tr>\n",
       "      <th>0</th>\n",
       "      <td>8e27bf9a</td>\n",
       "      <td>A</td>\n",
       "      <td>No</td>\n",
       "    </tr>\n",
       "    <tr>\n",
       "      <th>1</th>\n",
       "      <td>eb89e6f0</td>\n",
       "      <td>A</td>\n",
       "      <td>No</td>\n",
       "    </tr>\n",
       "    <tr>\n",
       "      <th>2</th>\n",
       "      <td>7119106a</td>\n",
       "      <td>A</td>\n",
       "      <td>No</td>\n",
       "    </tr>\n",
       "    <tr>\n",
       "      <th>3</th>\n",
       "      <td>e53781ff</td>\n",
       "      <td>A</td>\n",
       "      <td>No</td>\n",
       "    </tr>\n",
       "    <tr>\n",
       "      <th>4</th>\n",
       "      <td>02d48cf1</td>\n",
       "      <td>A</td>\n",
       "      <td>Yes</td>\n",
       "    </tr>\n",
       "  </tbody>\n",
       "</table>\n",
       "</div>"
      ],
      "text/plain": [
       "    user_id group is_purchase\n",
       "0  8e27bf9a     A          No\n",
       "1  eb89e6f0     A          No\n",
       "2  7119106a     A          No\n",
       "3  e53781ff     A          No\n",
       "4  02d48cf1     A         Yes"
      ]
     },
     "execution_count": 2,
     "metadata": {},
     "output_type": "execute_result"
    }
   ],
   "source": [
    "# Carrega e analisa os dados\n",
    "\n",
    "abdata = pd.read_csv('clicks.csv')\n",
    "abdata.head()"
   ]
  },
  {
   "cell_type": "code",
   "execution_count": 3,
   "id": "fec50e42",
   "metadata": {},
   "outputs": [
    {
     "data": {
      "text/html": [
       "<div>\n",
       "<style scoped>\n",
       "    .dataframe tbody tr th:only-of-type {\n",
       "        vertical-align: middle;\n",
       "    }\n",
       "\n",
       "    .dataframe tbody tr th {\n",
       "        vertical-align: top;\n",
       "    }\n",
       "\n",
       "    .dataframe thead th {\n",
       "        text-align: right;\n",
       "    }\n",
       "</style>\n",
       "<table border=\"1\" class=\"dataframe\">\n",
       "  <thead>\n",
       "    <tr style=\"text-align: right;\">\n",
       "      <th>is_purchase</th>\n",
       "      <th>No</th>\n",
       "      <th>Yes</th>\n",
       "    </tr>\n",
       "    <tr>\n",
       "      <th>group</th>\n",
       "      <th></th>\n",
       "      <th></th>\n",
       "    </tr>\n",
       "  </thead>\n",
       "  <tbody>\n",
       "    <tr>\n",
       "      <th>A</th>\n",
       "      <td>1350</td>\n",
       "      <td>316</td>\n",
       "    </tr>\n",
       "    <tr>\n",
       "      <th>B</th>\n",
       "      <td>1483</td>\n",
       "      <td>183</td>\n",
       "    </tr>\n",
       "    <tr>\n",
       "      <th>C</th>\n",
       "      <td>1583</td>\n",
       "      <td>83</td>\n",
       "    </tr>\n",
       "  </tbody>\n",
       "</table>\n",
       "</div>"
      ],
      "text/plain": [
       "is_purchase    No  Yes\n",
       "group                 \n",
       "A            1350  316\n",
       "B            1483  183\n",
       "C            1583   83"
      ]
     },
     "execution_count": 3,
     "metadata": {},
     "output_type": "execute_result"
    }
   ],
   "source": [
    "# Cria tabela de contingencia para o teste Chi-Square\n",
    "\n",
    "Xtab = pd.crosstab(abdata.group, abdata.is_purchase)\n",
    "Xtab"
   ]
  },
  {
   "cell_type": "code",
   "execution_count": 4,
   "id": "20e6bd09",
   "metadata": {},
   "outputs": [
    {
     "data": {
      "text/plain": [
       "2.4126213546684264e-35"
      ]
     },
     "execution_count": 4,
     "metadata": {},
     "output_type": "execute_result"
    }
   ],
   "source": [
    "# Calcula o p-value\n",
    "\n",
    "chi2, pval, dof, expected = chi2_contingency(Xtab)\n",
    "pval"
   ]
  },
  {
   "cell_type": "markdown",
   "id": "02e7db5c",
   "metadata": {},
   "source": [
    "#### É necessário, de acordo com a demanda da análise, gerar um mínimo de $1000,00 em receita por semana para justificar a execução do projeto de upgrade. Assim analisaremos não apenas o pacote com maior possibilidade de aquisições, mas também aquele que se apresenta mais vantajoso de acordo com a relação ao custo/lucro."
   ]
  },
  {
   "cell_type": "code",
   "execution_count": 5,
   "id": "f8e4bdb1",
   "metadata": {},
   "outputs": [
    {
     "data": {
      "text/plain": [
       "4998"
      ]
     },
     "execution_count": 5,
     "metadata": {},
     "output_type": "execute_result"
    }
   ],
   "source": [
    "# Calcula o número de visitas a partir dos dados\n",
    "\n",
    "num_visits = len(abdata)\n",
    "num_visits"
   ]
  },
  {
   "cell_type": "code",
   "execution_count": 19,
   "id": "0eae91a2",
   "metadata": {},
   "outputs": [
    {
     "data": {
      "text/plain": [
       "(1010.1010101010102, 0.20210104243717691)"
      ]
     },
     "execution_count": 19,
     "metadata": {},
     "output_type": "execute_result"
    }
   ],
   "source": [
    "# Calcula o número e a proporção de visitantes que precisariam comprar o pacote a $0.99 para alcançar a receita mínima\n",
    "num_sales_needed_099 = 1000 / 0.99\n",
    "p_sales_needed_099 = num_sales_needed_099 / num_visits\n",
    "num_sales_needed_099, p_sales_needed_099"
   ]
  },
  {
   "cell_type": "code",
   "execution_count": 20,
   "id": "24d9d857",
   "metadata": {},
   "outputs": [
    {
     "data": {
      "text/plain": [
       "(502.51256281407035, 0.10054272965467594)"
      ]
     },
     "execution_count": 20,
     "metadata": {},
     "output_type": "execute_result"
    }
   ],
   "source": [
    "# Calcula o número e a proporção de visitantes que precisariam comprar o pacote a $1.99 para alcançar a receita mínima\n",
    "num_sales_needed_199 = 1000 / 1.99\n",
    "p_sales_needed_199 = num_sales_needed_199 / num_visits\n",
    "num_sales_needed_199, p_sales_needed_199"
   ]
  },
  {
   "cell_type": "code",
   "execution_count": 21,
   "id": "19563668",
   "metadata": {},
   "outputs": [
    {
     "data": {
      "text/plain": [
       "(200.40080160320642, 0.040096198800161346)"
      ]
     },
     "execution_count": 21,
     "metadata": {},
     "output_type": "execute_result"
    }
   ],
   "source": [
    "# Calcula o número e a proporção de visitantes que precisariam comprar o pacote a $4.99 para alcançar a receita mínima\n",
    "num_sales_needed_499 = 1000 / 4.99\n",
    "p_sales_needed_499 = num_sales_needed_499 / num_visits\n",
    "num_sales_needed_499, p_sales_needed_499"
   ]
  },
  {
   "cell_type": "code",
   "execution_count": 22,
   "id": "8bf7128f",
   "metadata": {},
   "outputs": [
    {
     "data": {
      "text/plain": [
       "(1666, 316)"
      ]
     },
     "execution_count": 22,
     "metadata": {},
     "output_type": "execute_result"
    }
   ],
   "source": [
    "# Analisa os clientes do grupo A ($ 0.99) e aqueles desse grupo de efetivaram a compra\n",
    "\n",
    "samp_size_099 = np.sum(abdata.group == 'A')\n",
    "sales_099 = np.sum((abdata.group == 'A') & (abdata.is_purchase == 'Yes'))\n",
    "samp_size_099, sales_099"
   ]
  },
  {
   "cell_type": "code",
   "execution_count": 23,
   "id": "08867292",
   "metadata": {},
   "outputs": [
    {
     "data": {
      "text/plain": [
       "(1666, 183)"
      ]
     },
     "execution_count": 23,
     "metadata": {},
     "output_type": "execute_result"
    }
   ],
   "source": [
    "# Analisa os clientes do grupo B ($ 1.99) e aqueles desse grupo de efetivaram a compra\n",
    "\n",
    "samp_size_199 = np.sum(abdata.group == 'B')\n",
    "sales_199 = np.sum((abdata.group == 'B') & (abdata.is_purchase == 'Yes'))\n",
    "samp_size_199, sales_199"
   ]
  },
  {
   "cell_type": "code",
   "execution_count": 26,
   "id": "07e189a4",
   "metadata": {},
   "outputs": [
    {
     "data": {
      "text/plain": [
       "(1666, 83)"
      ]
     },
     "execution_count": 26,
     "metadata": {},
     "output_type": "execute_result"
    }
   ],
   "source": [
    "# Analisa os clientes do grupo C ($ 4.99) e aqueles desse grupo de efetivaram a compra\n",
    "\n",
    "samp_size_499 = np.sum(abdata.group == 'C')\n",
    "sales_499 = np.sum((abdata.group == 'C') & (abdata.is_purchase == 'Yes'))\n",
    "samp_size_499, sales_499"
   ]
  },
  {
   "cell_type": "code",
   "execution_count": 27,
   "id": "450f70b2",
   "metadata": {},
   "outputs": [
    {
     "data": {
      "text/plain": [
       "0.9028081076188554"
      ]
     },
     "execution_count": 27,
     "metadata": {},
     "output_type": "execute_result"
    }
   ],
   "source": [
    "# Realiza um teste binomial com a taxa de compra observada e a necessária para o grupo A\n",
    "\n",
    "pvalueA = binom_test(x=sales_099, n=samp_size_099, p=p_sales_needed_099, alternative='greater')\n",
    "pvalueA"
   ]
  },
  {
   "cell_type": "code",
   "execution_count": 28,
   "id": "f68042c5",
   "metadata": {},
   "outputs": [
    {
     "data": {
      "text/plain": [
       "0.11184562623740614"
      ]
     },
     "execution_count": 28,
     "metadata": {},
     "output_type": "execute_result"
    }
   ],
   "source": [
    "# Realiza um teste binomial com a taxa de compra observada e a necessária para o grupo B\n",
    "\n",
    "pvalueB = binom_test(x=sales_199, n=samp_size_199, p=p_sales_needed_199, alternative='greater')\n",
    "pvalueB"
   ]
  },
  {
   "cell_type": "code",
   "execution_count": 29,
   "id": "c82c9cff",
   "metadata": {},
   "outputs": [
    {
     "data": {
      "text/plain": [
       "0.02794482665983064"
      ]
     },
     "execution_count": 29,
     "metadata": {},
     "output_type": "execute_result"
    }
   ],
   "source": [
    "# Realiza um teste binomial com a taxa de compra observada e a necessária para o grupo C\n",
    "\n",
    "pvalueC = binom_test(x=sales_499, n=samp_size_499, p=p_sales_needed_499, alternative='greater')\n",
    "pvalueC"
   ]
  },
  {
   "cell_type": "markdown",
   "id": "0b3fdf25",
   "metadata": {},
   "source": [
    "#### Percebemos que pvalueC é o único valor p abaixo do limite de 0,05. Portanto, o grupo C é o único grupo em que a taxa de compra é significativamente maior do que a meta necessária para atingir uma receita de \\$ 1000 por semana. Portanto, o stakeholder deveria cobrar o valor de \\\\$ 4,99 pela atualização."
   ]
  },
  {
   "cell_type": "code",
   "execution_count": null,
   "id": "ccfd2d77",
   "metadata": {},
   "outputs": [],
   "source": []
  }
 ],
 "metadata": {
  "kernelspec": {
   "display_name": "Python 3 (ipykernel)",
   "language": "python",
   "name": "python3"
  },
  "language_info": {
   "codemirror_mode": {
    "name": "ipython",
    "version": 3
   },
   "file_extension": ".py",
   "mimetype": "text/x-python",
   "name": "python",
   "nbconvert_exporter": "python",
   "pygments_lexer": "ipython3",
   "version": "3.9.12"
  }
 },
 "nbformat": 4,
 "nbformat_minor": 5
}
